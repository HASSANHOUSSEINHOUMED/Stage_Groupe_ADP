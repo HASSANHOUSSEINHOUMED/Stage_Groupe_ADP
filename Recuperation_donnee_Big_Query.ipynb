{
  "nbformat": 4,
  "nbformat_minor": 0,
  "metadata": {
    "colab": {
      "provenance": []
    },
    "kernelspec": {
      "name": "python3",
      "display_name": "Python 3"
    },
    "language_info": {
      "name": "python"
    }
  },
  "cells": [
    {
      "cell_type": "code",
      "execution_count": null,
      "metadata": {
        "id": "dt7NEHXv-M7b"
      },
      "outputs": [],
      "source": [
        "def fetch_and_save_data(credentials_path, project_id, start_date, end_date, base_output_dir, table_prefix, special_dates=None):\n",
        "    credentials = service_account.Credentials.from_service_account_file(credentials_path)\n",
        "    client = bigquery.Client(credentials=credentials, project=project_id)\n",
        "\n",
        "    current_date = start_date\n",
        "    while current_date <= end_date:\n",
        "        # Skip dates if specified in special_dates\n",
        "        if special_dates and current_date.strftime(\"%Y%m%d\") in special_dates:\n",
        "            current_date += timedelta(days=1)\n",
        "            continue\n",
        "\n",
        "        formatted_date = current_date.strftime(\"%Y%m%d\")\n",
        "        table_id = f\"{table_prefix}.events_{formatted_date}\"\n",
        "        output_file_path = os.path.join(base_output_dir, f\"events_{formatted_date}.json\")\n",
        "\n",
        "        query = f\"SELECT * FROM `{table_id}`\"\n",
        "        query_job = client.query(query)\n",
        "\n",
        "        with open(output_file_path, 'w') as file:\n",
        "            for row in query_job.result():\n",
        "                json.dump(dict(row), file)\n",
        "                file.write('\\n')\n",
        "\n",
        "        current_date += timedelta(days=1)\n",
        "# Configuration et récupération des données GA Apps\n",
        "credentials_path_ga_apps = \"remplacer_par_credentials_path\"\n",
        "base_output_dir_ga_apps = \"remplacer_par_base_output_dir\"\n",
        "\n",
        "# Configuration pour les dates du 01 juin 2024 au 3 juin 2024\n",
        "fetch_and_save_data(credentials_path_ga_apps, \"remplacer_par_project_id\", datetime(2024, 6, 1), datetime(2024, 6, 3), base_output_dir_ga_apps, \"remplacer_par_table_prefix\")\n",
        "\n",
        "# Configuration pour la date du 7 février 2024\n",
        "#fetch_and_save_data(credentials_path_ga_apps, \"remplacer_par_project_id\", datetime(2024, 2, 7), datetime(2024, 2, 7), base_output_dir_ga_apps, \"remplacer_par_table_prefix\")"
      ]
    }
  ]
}