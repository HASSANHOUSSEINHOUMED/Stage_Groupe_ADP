{
  "nbformat": 4,
  "nbformat_minor": 0,
  "metadata": {
    "colab": {
      "provenance": []
    },
    "kernelspec": {
      "name": "python3",
      "display_name": "Python 3"
    },
    "language_info": {
      "name": "python"
    }
  },
  "cells": [
    {
      "cell_type": "code",
      "execution_count": null,
      "metadata": {
        "id": "l_wdQlTT-Uc8"
      },
      "outputs": [],
      "source": [
        "import pandas as pd\n",
        "from ftfy import fix_text\n",
        "\n",
        "def corriger_dataframe_avec_ftfy(df):\n",
        "    # Appliquer ftfy pour corriger les noms des colonnes\n",
        "    df.columns = [fix_text(col) for col in df.columns]\n",
        "\n",
        "    # Appliquer ftfy pour corriger les caractères mal encodés dans les cellules\n",
        "    for col in df.select_dtypes(include=[object]):\n",
        "        df[col] = df[col].apply(lambda x: fix_text(x) if isinstance(x, str) else x)\n",
        "    return df\n",
        "\n",
        "# Chemin du fichier CSV\n",
        "chemin_fichier = 'Lien_vers_le_fichier'\n",
        "\n",
        "# Lire le fichier CSV (avec un encodage supposé correct pour permettre la lecture)\n",
        "df = pd.read_csv(chemin_fichier, encoding='utf-8', delimiter=';')\n",
        "\n",
        "# Corriger les caractères mal encodés dans le DataFrame et les noms des colonnes\n",
        "df_corrige = corriger_dataframe_avec_ftfy(df)"
      ]
    }
  ]
}